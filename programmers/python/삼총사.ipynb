from itertools import combinations
def solution(number):
    answer = 0
    for array in list(combinations(number, 3)):
        if sum(array) == 0:
            answer += 1
            
    return answer
