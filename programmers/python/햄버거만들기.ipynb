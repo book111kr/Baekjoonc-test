def solution(ingredient):
    answer = 0
    stack = []
    for McD in ingredient:
        stack.append(McD)
        while len(stack) > 3 and stack[-4:] == [1,2,3,1]:
            stack.pop()
            stack.pop()
            stack.pop()
            stack.pop()
            
            answer += 1
    return answer
